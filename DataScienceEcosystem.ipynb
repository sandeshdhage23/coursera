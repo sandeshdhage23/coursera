{
 "cells": [
  {
   "cell_type": "markdown",
   "id": "523d7b43-50dd-489b-9c5f-9433d8f9acfc",
   "metadata": {},
   "source": [
    "# Data Science Tools and Ecosystem"
   ]
  },
  {
   "cell_type": "markdown",
   "id": "4a4d39d4-bd7f-4135-b47f-060db0404681",
   "metadata": {},
   "source": [
    "In this notebook, Data Science Tools and Ecosystem are summarized"
   ]
  },
  {
   "cell_type": "markdown",
   "id": "629cb3b0-0949-403a-a238-8ebceeacfbfb",
   "metadata": {},
   "source": [
    "**Objectives:**\n",
    "- List popular languages in Python\n",
    "- list commonly used libraries by Data Scientists\n",
    "- create a table in Markdown\n",
    "- do some arithmetic"
   ]
  },
  {
   "cell_type": "markdown",
   "id": "243c6dc2-875d-46f4-9e9f-e9ca3d8338bf",
   "metadata": {},
   "source": [
    "Some of the popular languages that Data Scientists use are:\n",
    "1. Python\n",
    "2. Jullia\n",
    "3. R"
   ]
  },
  {
   "cell_type": "markdown",
   "id": "cf3cefd1-f87b-49de-8ad9-40666544290a",
   "metadata": {},
   "source": [
    "Some of the commonly used libraries used by Data Scientists include:\n",
    "1. numpy\n",
    "2. pandas\n",
    "3. matplotlib"
   ]
  },
  {
   "cell_type": "markdown",
   "id": "ed8b2214-0922-4f6e-97a0-1e894c3cd0de",
   "metadata": {},
   "source": [
    "| Data Science Tools |\n",
    "| --- |\n",
    "| RStudio |\n",
    "| Jupyter Nootbook |\n",
    "| Git |"
   ]
  },
  {
   "cell_type": "markdown",
   "id": "ea97bbee-ae33-4cc4-9775-2016c4016ea3",
   "metadata": {},
   "source": [
    "### Below are a few examples of evaluating arithmetic expressions in Python"
   ]
  },
  {
   "cell_type": "code",
   "execution_count": 8,
   "id": "4841a91f-5623-478e-bda2-0e935c70331c",
   "metadata": {},
   "outputs": [
    {
     "data": {
      "text/plain": [
       "17"
      ]
     },
     "execution_count": 8,
     "metadata": {},
     "output_type": "execute_result"
    }
   ],
   "source": [
    "# This is simple arithmetic expression to multiply then add integers\n",
    "(3*4)+5"
   ]
  },
  {
   "cell_type": "code",
   "execution_count": 9,
   "id": "b6fddcb3-db27-46f1-9e9e-e765196c1c78",
   "metadata": {},
   "outputs": [
    {
     "data": {
      "text/plain": [
       "3.3333333333333335"
      ]
     },
     "execution_count": 9,
     "metadata": {},
     "output_type": "execute_result"
    }
   ],
   "source": [
    "# This will convevrt 200 minutes to hours by dividing by 60\n",
    "200/60"
   ]
  },
  {
   "cell_type": "markdown",
   "id": "f81f98e2-6faf-407e-adb5-bab45c725363",
   "metadata": {},
   "source": [
    "## Author\n",
    "Sandesh Dhage"
   ]
  },
  {
   "cell_type": "code",
   "execution_count": null,
   "id": "dbebffec-cb03-48ee-86f8-cf6908d64b93",
   "metadata": {},
   "outputs": [],
   "source": []
  }
 ],
 "metadata": {
  "kernelspec": {
   "display_name": "Python 3 (ipykernel)",
   "language": "python",
   "name": "python3"
  },
  "language_info": {
   "codemirror_mode": {
    "name": "ipython",
    "version": 3
   },
   "file_extension": ".py",
   "mimetype": "text/x-python",
   "name": "python",
   "nbconvert_exporter": "python",
   "pygments_lexer": "ipython3",
   "version": "3.11.7"
  }
 },
 "nbformat": 4,
 "nbformat_minor": 5
}
